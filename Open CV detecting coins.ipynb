{
 "cells": [
  {
   "cell_type": "code",
   "execution_count": 1,
   "metadata": {},
   "outputs": [
    {
     "name": "stdout",
     "output_type": "stream",
     "text": [
      "[[[1357.5  253.5  112.8]\n",
      "  [1629.5  281.5   88.8]\n",
      "  [ 994.5  132.5  108. ]\n",
      "  [1203.5  742.5  103.1]\n",
      "  [ 976.5  638.5   99.5]\n",
      "  [1696.5  500.5  119.4]\n",
      "  [1256.5  467.5  106.1]\n",
      "  [1433.5  642.5  119.4]]]\n"
     ]
    }
   ],
   "source": [
    "import numpy as np\n",
    "import cv2\n",
    "\n",
    "def av_pix(img,circles,size):\n",
    "    av_value = []\n",
    "    for coords in circles[0,:]:\n",
    "        col = np.mean(img[coords[1]-size:coords[1]+size,coords[0]-size:coords[0]+size])\n",
    "        #print(img[coords[1]-size:coords[1]+size,coords[0]-size:coords[0]+size])\n",
    "        av_value.append(col)\n",
    "    return av_value   \n",
    "\n",
    "\n",
    "def get_radius(circles):\n",
    "    radius = []\n",
    "    for coords in circles[0,:]:\n",
    "        radius.append(coords[2])    \n",
    "    return radius\n",
    "\n",
    "img = cv2.imread('capstone_coins.png',cv2.IMREAD_GRAYSCALE)\n",
    "original_image = cv2.imread('capstone_coins.png',1)\n",
    "img = cv2.GaussianBlur(img, (5,5), 0)\n",
    "\n",
    "circles = cv2.HoughCircles(img,cv2.HOUGH_GRADIENT,0.9,120,param1=50,param2=27,minRadius=60,maxRadius=120)\n",
    "\n",
    "print(circles)"
   ]
  },
  {
   "cell_type": "code",
   "execution_count": 2,
   "metadata": {},
   "outputs": [
    {
     "name": "stdout",
     "output_type": "stream",
     "text": [
      "[113, 89, 108, 103, 100, 119, 106, 119]\n",
      "[185.45375, 180.9975, 100.78625, 75.79375, 75.544375, 95.278125, 126.86625, 87.255]\n"
     ]
    }
   ],
   "source": [
    "circles = np.uint16(np.around(circles))\n",
    "count = 1\n",
    "for i in circles[0,:]:\n",
    "    \n",
    "    # draw the outer circle\n",
    "    cv2.circle(original_image,(i[0],i[1]),i[2],(0,255,0),2)\n",
    "    # draw the center of the circle\n",
    "    cv2.circle(original_image,(i[0],i[1]),2,(0,0,255),3)\n",
    "    #cv2.putText(original_image, str(count),(i[0],i[1]), cv2.FONT_HERSHEY_SIMPLEX, 2, (0,0,0), 2)\n",
    "    count += 1\n",
    "\n",
    "radii = get_radius(circles)\n",
    "print(radii)\n",
    "\n",
    "bright_values = av_pix(img,circles,20)\n",
    "print(bright_values)"
   ]
  },
  {
   "cell_type": "code",
   "execution_count": 3,
   "metadata": {},
   "outputs": [
    {
     "name": "stdout",
     "output_type": "stream",
     "text": [
      "[10, 5, 1, 1, 1, 2, 1, 2]\n"
     ]
    }
   ],
   "source": [
    "values = []\n",
    "for a,b in zip(bright_values,radii):\n",
    "    if a > 150 and b > 110:\n",
    "        values.append(10)\n",
    "    elif a > 150 and b <= 110:\n",
    "        values.append(5)\n",
    "    elif a < 150 and b > 110:\n",
    "        values.append(2)\n",
    "    elif a < 150 and b < 110:\n",
    "        values.append(1)        \n",
    "print(values)           "
   ]
  },
  {
   "cell_type": "code",
   "execution_count": null,
   "metadata": {},
   "outputs": [],
   "source": [
    "count_2 = 0\n",
    "for i in circles[0,:]:\n",
    "    \n",
    "    cv2.putText(original_image, str(values[count_2]) + 'p',(i[0],i[1]), cv2.FONT_HERSHEY_SIMPLEX, 2, (0,0,0), 2)\n",
    "    count_2 += 1\n",
    "cv2.putText(original_image, 'ESTIMATED TOTAL VALUE: ' + str(sum(values)) + 'p', (200,100), cv2.FONT_HERSHEY_SIMPLEX, 1.3, 255)\n",
    "\n",
    "\n",
    "\n",
    "\n",
    "cv2.imshow('Detected Coins',original_image)\n",
    "cv2.waitKey(0)\n",
    "cv2.destroyAllWindows()"
   ]
  }
 ],
 "metadata": {
  "kernelspec": {
   "display_name": "Python 3",
   "language": "python",
   "name": "python3"
  },
  "language_info": {
   "codemirror_mode": {
    "name": "ipython",
    "version": 3
   },
   "file_extension": ".py",
   "mimetype": "text/x-python",
   "name": "python",
   "nbconvert_exporter": "python",
   "pygments_lexer": "ipython3",
   "version": "3.7.7"
  }
 },
 "nbformat": 4,
 "nbformat_minor": 4
}

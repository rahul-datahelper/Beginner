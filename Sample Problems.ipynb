{
 "cells": [
  {
   "cell_type": "code",
   "execution_count": 2,
   "metadata": {},
   "outputs": [
    {
     "name": "stdout",
     "output_type": "stream",
     "text": [
      "Python version is  3.7.7 (default, May  6 2020, 11:45:54) [MSC v.1916 64 bit (AMD64)]\n"
     ]
    }
   ],
   "source": [
    "#short program that will print out the version of Python\n",
    "#that you are using\n",
    "\n",
    "import sys\n",
    "\n",
    "version= sys.version\n",
    "print(\"Python version is \", version)"
   ]
  },
  {
   "cell_type": "code",
   "execution_count": 52,
   "metadata": {},
   "outputs": [
    {
     "name": "stdout",
     "output_type": "stream",
     "text": [
      "Please enter names separated by commas: James,Alison,Fred,Sally,Matthew\n",
      "['James', 'Alison', 'Fred', 'Sally', 'Matthew']\n"
     ]
    }
   ],
   "source": [
    "#program that requests five names separated by commas and create a\n",
    "#ist containing those names. Print your answer.\n",
    "#or example James,Alison,Fred,Sally,Matthew\n",
    "#hould return ['James','Alison','Fred','Sally','Matthew']\n",
    "\n",
    "names = input('Please enter names separated by commas: ')\n",
    "name_list = names.split(',')\n",
    "print(name_list)"
   ]
  },
  {
   "cell_type": "code",
   "execution_count": 31,
   "metadata": {},
   "outputs": [
    {
     "data": {
      "text/plain": [
       "True"
      ]
     },
     "execution_count": 31,
     "metadata": {},
     "output_type": "execute_result"
    }
   ],
   "source": [
    "#program to determine whether a given number is within 10 of 100 or 200.\n",
    "\n",
    "def number(number):\n",
    "    if (abs(100 - number)) <= 10 or (abs(200 - number)) <= 10:\n",
    "        return True\n",
    "    else:\n",
    "        return False\n",
    "    \n",
    "number(199)"
   ]
  },
  {
   "cell_type": "code",
   "execution_count": 36,
   "metadata": {},
   "outputs": [
    {
     "name": "stdout",
     "output_type": "stream",
     "text": [
      "4\n"
     ]
    }
   ],
   "source": [
    "#code that will return the number of CPUs in the system.\n",
    "\n",
    "import multiprocessing\n",
    "print(multiprocessing.cpu_count())"
   ]
  },
  {
   "cell_type": "code",
   "execution_count": 45,
   "metadata": {},
   "outputs": [
    {
     "name": "stdout",
     "output_type": "stream",
     "text": [
      "16\n"
     ]
    }
   ],
   "source": [
    "#program that will return the sum of the digits of an integer\n",
    "\n",
    "def digit_sum(number):\n",
    "    sum = 0\n",
    "    while number > 0:\n",
    "        sum = sum + number % 10\n",
    "        number = number // 10\n",
    "    return sum\n",
    "\n",
    "l=digit_sum(88)\n",
    "print(l)"
   ]
  },
  {
   "cell_type": "code",
   "execution_count": 47,
   "metadata": {},
   "outputs": [
    {
     "name": "stdout",
     "output_type": "stream",
     "text": [
      "otentialpay\n"
     ]
    }
   ],
   "source": [
    "#Write a program that converts text into pig latin. Pig latin works as follows:\n",
    "#All letters before initial vowel are placed at the end of the word and then 'ay'\n",
    "#is added (explanation adapted from Wikipedia), so pig becomes igpay, cat becomes\n",
    "#atcay, potential becomes otentialpay etc.\n",
    "\n",
    "\n",
    "def pig_latin(word):\n",
    "    vowels = ['a','e','i','o','u']\n",
    "    front = None\n",
    "    for index, char in enumerate(word):\n",
    "        if char in vowels:\n",
    "            front = word[index:]\n",
    "            back = word[:index]\n",
    "            break\n",
    "    if not front:\n",
    "        return 'No vowels!'\n",
    "    translation = front + back + 'ay'\n",
    "    return translation\n",
    "\n",
    "print(pig_latin('potential'))"
   ]
  },
  {
   "cell_type": "code",
   "execution_count": 50,
   "metadata": {},
   "outputs": [
    {
     "name": "stdout",
     "output_type": "stream",
     "text": [
      "True\n"
     ]
    }
   ],
   "source": [
    "#function that will check for the occurrence of double letters in\n",
    "#a string. If the string contains double letters next to each other it\n",
    "#will return True, otherwise it will return False.\n",
    "\n",
    "\n",
    "def double(string):\n",
    "    str_len = len(string)\n",
    "    for i in range(str_len - 1):\n",
    "        if string[i] == string[i+1]:\n",
    "            return True\n",
    "\n",
    "    return False\n",
    "\n",
    "print(double('platter'))"
   ]
  },
  {
   "cell_type": "code",
   "execution_count": 54,
   "metadata": {},
   "outputs": [
    {
     "data": {
      "text/plain": [
       "True"
      ]
     },
     "execution_count": 54,
     "metadata": {},
     "output_type": "execute_result"
    }
   ],
   "source": [
    "#function that will check if a string is a palindrome.\n",
    "\n",
    "def palindrome(string):\n",
    "    if string == string[::-1]:\n",
    "        return True\n",
    "    return False\n",
    "\n",
    "palindrome('racecar')"
   ]
  },
  {
   "cell_type": "code",
   "execution_count": 58,
   "metadata": {},
   "outputs": [
    {
     "data": {
      "text/plain": [
       "'10,000,000,000'"
      ]
     },
     "execution_count": 58,
     "metadata": {},
     "output_type": "execute_result"
    }
   ],
   "source": [
    "#function def add_commas(numbers) that will add commas to an integer and return it as a string.\n",
    "#For example add_commas(1000000) will return 1,000,000 \n",
    "\n",
    "def add_commas(number):\n",
    "\n",
    "    str_number = str(number)\n",
    "\n",
    "    str_number = str_number[::-1]\n",
    "    comma = ','\n",
    "    new_str = ''\n",
    "    for i, num in enumerate(str_number):\n",
    "        if i != 0 and (i % 3) == 0:\n",
    "            new_str = new_str + comma\n",
    "        new_str = new_str + num\n",
    "\n",
    "    return new_str[::-1]\n",
    "\n",
    "add_commas(10000000000)"
   ]
  },
  {
   "cell_type": "code",
   "execution_count": 61,
   "metadata": {},
   "outputs": [
    {
     "name": "stdout",
     "output_type": "stream",
     "text": [
      "16 in binary is 00010000\n"
     ]
    }
   ],
   "source": [
    "#function that will convert an integer into binary.\n",
    "\n",
    "def to_binary(number):\n",
    "    print(f'{number} in binary is {number:08b}')\n",
    "          \n",
    "to_binary(16)"
   ]
  },
  {
   "cell_type": "code",
   "execution_count": 63,
   "metadata": {},
   "outputs": [
    {
     "data": {
      "text/plain": [
       "(595, 595.0)"
      ]
     },
     "execution_count": 63,
     "metadata": {},
     "output_type": "execute_result"
    }
   ],
   "source": [
    "#function that calculates the sum of all integers up to n. Use the iterative method\n",
    "#and the formula and compare the results (sum of n integers given by S = (n(n+1))/2)\n",
    "\n",
    "def check_sums(number):\n",
    "    sum_1 = 0\n",
    "    for i,v in enumerate(range(number+1)):\n",
    "        sum_1 = sum_1 + v\n",
    "    sum_2 = (number * (number + 1))/2\n",
    "\n",
    "    return sum_1, sum_2\n",
    "\n",
    "check_sums(34)"
   ]
  },
  {
   "cell_type": "code",
   "execution_count": 64,
   "metadata": {},
   "outputs": [
    {
     "data": {
      "text/plain": [
       "'5h:45 mins'"
      ]
     },
     "execution_count": 64,
     "metadata": {},
     "output_type": "execute_result"
    }
   ],
   "source": [
    "#function that takes a positive integer n and converts it into hours and minutes.\n",
    "#45 would return 0h:45mins 135 would return 2h:15mins\n",
    "\n",
    "def convert_h_m(num):\n",
    "    hours = num // 60\n",
    "    mins = num % 60\n",
    "    return str(hours) + 'h' + ':' + str(mins)  + ' mins'\n",
    "\n",
    "convert_h_m(345)"
   ]
  },
  {
   "cell_type": "code",
   "execution_count": 65,
   "metadata": {},
   "outputs": [
    {
     "data": {
      "text/plain": [
       "True"
      ]
     },
     "execution_count": 65,
     "metadata": {},
     "output_type": "execute_result"
    }
   ],
   "source": [
    "#function to determine whether all numbers in a list are unique.\n",
    "\n",
    "def unique_items(my_list):\n",
    "    if len(my_list) == len(set(my_list)):\n",
    "        return True\n",
    "    else:\n",
    "        return False\n",
    "    \n",
    "unique_items([1,2,3,4,5])"
   ]
  },
  {
   "cell_type": "code",
   "execution_count": 66,
   "metadata": {},
   "outputs": [
    {
     "data": {
      "text/plain": [
       "19"
      ]
     },
     "execution_count": 66,
     "metadata": {},
     "output_type": "execute_result"
    }
   ],
   "source": [
    "#function to add two positive integers together without using the + operator.\n",
    "\n",
    "def no_plus_sum(a,b):\n",
    "\n",
    "    while b != 0:\n",
    "        carry = a & b\n",
    "        a = a ^ b\n",
    "        b = carry << 1\n",
    "    return a\n",
    "\n",
    "no_plus_sum(17,2)"
   ]
  }
 ],
 "metadata": {
  "kernelspec": {
   "display_name": "Python 3",
   "language": "python",
   "name": "python3"
  },
  "language_info": {
   "codemirror_mode": {
    "name": "ipython",
    "version": 3
   },
   "file_extension": ".py",
   "mimetype": "text/x-python",
   "name": "python",
   "nbconvert_exporter": "python",
   "pygments_lexer": "ipython3",
   "version": "3.7.7"
  }
 },
 "nbformat": 4,
 "nbformat_minor": 4
}

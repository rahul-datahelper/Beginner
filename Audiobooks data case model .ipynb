{
 "cells": [
  {
   "cell_type": "code",
   "execution_count": 12,
   "metadata": {},
   "outputs": [],
   "source": [
    "import pandas as pd\n",
    "import numpy as np\n",
    "import tensorflow as tf\n",
    "import sklearn\n",
    "from sklearn import preprocessing"
   ]
  },
  {
   "cell_type": "markdown",
   "metadata": {},
   "source": [
    "# Preprocessing "
   ]
  },
  {
   "cell_type": "code",
   "execution_count": 2,
   "metadata": {},
   "outputs": [],
   "source": [
    "raw_csv_data= np.loadtxt(r\"C:\\Users\\RAJSHREE\\Downloads\\Audiobooks_data.csv\" , delimiter=',')"
   ]
  },
  {
   "cell_type": "code",
   "execution_count": 3,
   "metadata": {},
   "outputs": [],
   "source": [
    "unscaled_inputs_all= raw_csv_data[:,1:-1]\n",
    "targets_all= raw_csv_data[:,-1]"
   ]
  },
  {
   "cell_type": "code",
   "execution_count": 4,
   "metadata": {},
   "outputs": [],
   "source": [
    "num_one_targets= int(np.sum(targets_all))\n",
    "zero_targets_counter= 0 \n",
    "indices_to_remove= []\n",
    "\n",
    "for i in range (targets_all.shape[0]):\n",
    "    if targets_all[i] ==0:\n",
    "        zero_targets_counter += 1\n",
    "        if zero_targets_counter > num_one_targets:\n",
    "            indices_to_remove.append(i)\n",
    "            \n",
    "unscaled_inputs_equal_priors= np.delete(unscaled_inputs_all, indices_to_remove, axis=0)\n",
    "targets_equal_priors= np.delete (targets_all, indices_to_remove, axis=0)"
   ]
  },
  {
   "cell_type": "code",
   "execution_count": 5,
   "metadata": {},
   "outputs": [],
   "source": [
    "scaled_inputs= preprocessing.scale(unscaled_inputs_equal_priors)"
   ]
  },
  {
   "cell_type": "code",
   "execution_count": 7,
   "metadata": {},
   "outputs": [],
   "source": [
    "shuffled_indices= np.arange (scaled_inputs.shape[0])\n",
    "np.random.shuffle(shuffled_indices)\n",
    "\n",
    "shuffled_inputs= scaled_inputs[shuffled_indices]\n",
    "shuffled_targets= targets_equal_priors[shuffled_indices]"
   ]
  },
  {
   "cell_type": "code",
   "execution_count": 10,
   "metadata": {},
   "outputs": [
    {
     "name": "stdout",
     "output_type": "stream",
     "text": [
      "1768.0 3579 0.49399273540095\n",
      "224.0 447 0.5011185682326622\n",
      "245.0 448 0.546875\n"
     ]
    }
   ],
   "source": [
    "samples_count= shuffled_inputs.shape[0]\n",
    "\n",
    "train_samples_count= int(0.8*samples_count)\n",
    "validation_samples_count= int(0.1*samples_count)\n",
    "test_samples_count= samples_count- train_samples_count- validation_samples_count\n",
    "\n",
    "train_inputs = shuffled_inputs[:train_samples_count]\n",
    "train_targets = shuffled_targets[:train_samples_count]\n",
    "\n",
    "validation_inputs = shuffled_inputs[train_samples_count:train_samples_count+validation_samples_count]\n",
    "validation_targets = shuffled_targets[train_samples_count:train_samples_count+validation_samples_count]\n",
    "\n",
    "test_inputs = shuffled_inputs[train_samples_count+validation_samples_count:]\n",
    "test_targets = shuffled_targets[train_samples_count+validation_samples_count:]\n",
    "\n",
    "print(np.sum(train_targets), train_samples_count, np.sum(train_targets) / train_samples_count)\n",
    "print(np.sum(validation_targets), validation_samples_count, np.sum(validation_targets) / validation_samples_count)\n",
    "print(np.sum(test_targets), test_samples_count, np.sum(test_targets) / test_samples_count)"
   ]
  },
  {
   "cell_type": "code",
   "execution_count": 11,
   "metadata": {},
   "outputs": [],
   "source": [
    "np.savez('Audiobooks_data_train', inputs=train_inputs, targets=train_targets)\n",
    "np.savez('Audiobooks_data_validation', inputs=validation_inputs, targets=validation_targets)\n",
    "np.savez('Audiobooks_data_test', inputs=test_inputs, targets=test_targets)"
   ]
  },
  {
   "cell_type": "markdown",
   "metadata": {},
   "source": [
    "# Loading the data"
   ]
  },
  {
   "cell_type": "code",
   "execution_count": 13,
   "metadata": {},
   "outputs": [],
   "source": [
    "npz = np.load('Audiobooks_data_train.npz')\n",
    "\n",
    "train_inputs = npz['inputs'].astype(np.float)\n",
    "train_targets = npz['targets'].astype(np.int)\n",
    "\n",
    "npz = np.load('Audiobooks_data_validation.npz')\n",
    "validation_inputs, validation_targets = npz['inputs'].astype(np.float), npz['targets'].astype(np.int)\n",
    "\n",
    "npz = np.load('Audiobooks_data_test.npz')\n",
    "test_inputs, test_targets = npz['inputs'].astype(np.float), npz['targets'].astype(np.int)"
   ]
  },
  {
   "cell_type": "markdown",
   "metadata": {},
   "source": [
    "# Model"
   ]
  },
  {
   "cell_type": "code",
   "execution_count": 20,
   "metadata": {},
   "outputs": [
    {
     "name": "stdout",
     "output_type": "stream",
     "text": [
      "Train on 3579 samples, validate on 447 samples\n",
      "Epoch 1/100\n",
      "3579/3579 - 1s - loss: 0.5224 - accuracy: 0.7734 - val_loss: 0.4087 - val_accuracy: 0.8613\n",
      "Epoch 2/100\n",
      "3579/3579 - 0s - loss: 0.3503 - accuracy: 0.8765 - val_loss: 0.3361 - val_accuracy: 0.8770\n",
      "Epoch 3/100\n",
      "3579/3579 - 0s - loss: 0.3110 - accuracy: 0.8885 - val_loss: 0.3076 - val_accuracy: 0.8904\n",
      "Epoch 4/100\n",
      "3579/3579 - 0s - loss: 0.2917 - accuracy: 0.8930 - val_loss: 0.2923 - val_accuracy: 0.8971\n",
      "Epoch 5/100\n",
      "3579/3579 - 0s - loss: 0.2796 - accuracy: 0.8963 - val_loss: 0.2799 - val_accuracy: 0.8971\n",
      "Epoch 6/100\n",
      "3579/3579 - 0s - loss: 0.2697 - accuracy: 0.9003 - val_loss: 0.2746 - val_accuracy: 0.8993\n",
      "Epoch 7/100\n",
      "3579/3579 - 0s - loss: 0.2635 - accuracy: 0.9033 - val_loss: 0.2656 - val_accuracy: 0.8993\n",
      "Epoch 8/100\n",
      "3579/3579 - 0s - loss: 0.2583 - accuracy: 0.9064 - val_loss: 0.2585 - val_accuracy: 0.9016\n",
      "Epoch 9/100\n",
      "3579/3579 - 0s - loss: 0.2540 - accuracy: 0.9067 - val_loss: 0.2526 - val_accuracy: 0.9038\n",
      "Epoch 10/100\n",
      "3579/3579 - 0s - loss: 0.2493 - accuracy: 0.9084 - val_loss: 0.2483 - val_accuracy: 0.9060\n",
      "Epoch 11/100\n",
      "3579/3579 - 0s - loss: 0.2483 - accuracy: 0.9067 - val_loss: 0.2463 - val_accuracy: 0.9083\n",
      "Epoch 12/100\n",
      "3579/3579 - 0s - loss: 0.2436 - accuracy: 0.9103 - val_loss: 0.2450 - val_accuracy: 0.9060\n",
      "Epoch 13/100\n",
      "3579/3579 - 0s - loss: 0.2412 - accuracy: 0.9103 - val_loss: 0.2420 - val_accuracy: 0.9195\n",
      "Epoch 14/100\n",
      "3579/3579 - 0s - loss: 0.2422 - accuracy: 0.9131 - val_loss: 0.2394 - val_accuracy: 0.9083\n",
      "Epoch 15/100\n",
      "3579/3579 - 0s - loss: 0.2377 - accuracy: 0.9117 - val_loss: 0.2340 - val_accuracy: 0.9128\n",
      "Epoch 16/100\n",
      "3579/3579 - 0s - loss: 0.2378 - accuracy: 0.9145 - val_loss: 0.2335 - val_accuracy: 0.9172\n",
      "Epoch 17/100\n",
      "3579/3579 - 0s - loss: 0.2363 - accuracy: 0.9131 - val_loss: 0.2309 - val_accuracy: 0.9172\n",
      "Epoch 18/100\n",
      "3579/3579 - 0s - loss: 0.2334 - accuracy: 0.9142 - val_loss: 0.2278 - val_accuracy: 0.9150\n",
      "Epoch 19/100\n",
      "3579/3579 - 0s - loss: 0.2308 - accuracy: 0.9153 - val_loss: 0.2323 - val_accuracy: 0.9083\n",
      "Epoch 20/100\n",
      "3579/3579 - 0s - loss: 0.2306 - accuracy: 0.9165 - val_loss: 0.2241 - val_accuracy: 0.9172\n",
      "Epoch 21/100\n",
      "3579/3579 - 0s - loss: 0.2279 - accuracy: 0.9173 - val_loss: 0.2259 - val_accuracy: 0.9172\n",
      "Epoch 22/100\n",
      "3579/3579 - 0s - loss: 0.2297 - accuracy: 0.9170 - val_loss: 0.2219 - val_accuracy: 0.9195\n",
      "Epoch 23/100\n",
      "3579/3579 - 0s - loss: 0.2283 - accuracy: 0.9176 - val_loss: 0.2210 - val_accuracy: 0.9172\n",
      "Epoch 24/100\n",
      "3579/3579 - 0s - loss: 0.2312 - accuracy: 0.9145 - val_loss: 0.2217 - val_accuracy: 0.9195\n",
      "Epoch 25/100\n",
      "3579/3579 - 0s - loss: 0.2273 - accuracy: 0.9165 - val_loss: 0.2234 - val_accuracy: 0.9195\n"
     ]
    },
    {
     "data": {
      "text/plain": [
       "<tensorflow.python.keras.callbacks.History at 0x290d8ddd388>"
      ]
     },
     "execution_count": 20,
     "metadata": {},
     "output_type": "execute_result"
    }
   ],
   "source": [
    "input_size= 10\n",
    "output_size= 2\n",
    "hidden_layer_size= 50\n",
    "\n",
    "model = tf.keras.Sequential([ \n",
    "                            tf.keras.layers.Dense(hidden_layer_size, activation='relu'),\n",
    "                            tf.keras.layers.Dense(hidden_layer_size, activation='relu'),\n",
    "                            tf.keras.layers.Dense(output_size, activation='softmax')\n",
    "                            ])\n",
    "\n",
    "model.compile(optimizer='adam', loss='sparse_categorical_crossentropy', metrics=['accuracy'])\n",
    "\n",
    "batch_size= 100\n",
    "max_epochs= 100\n",
    "early_stopping= tf.keras.callbacks.EarlyStopping(patience=2)\n",
    "\n",
    "model.fit(train_inputs, \n",
    "          train_targets,\n",
    "          batch_size=batch_size,\n",
    "          epochs=max_epochs,\n",
    "          callbacks= [early_stopping],\n",
    "          validation_data= (validation_inputs, validation_targets),\n",
    "          verbose= 2\n",
    "          )"
   ]
  },
  {
   "cell_type": "markdown",
   "metadata": {},
   "source": [
    "# Testing the model"
   ]
  },
  {
   "cell_type": "code",
   "execution_count": 21,
   "metadata": {},
   "outputs": [
    {
     "name": "stdout",
     "output_type": "stream",
     "text": [
      "448/448 [==============================] - 0s 324us/sample - loss: 0.2712 - accuracy: 0.8929\n"
     ]
    }
   ],
   "source": [
    "test_loss, test_accuracy= model.evaluate(test_inputs, test_targets)"
   ]
  },
  {
   "cell_type": "code",
   "execution_count": 22,
   "metadata": {},
   "outputs": [
    {
     "name": "stdout",
     "output_type": "stream",
     "text": [
      "\n",
      " Test loss 0.27 Test Accuracy 89.29%\n"
     ]
    }
   ],
   "source": [
    "print('\\n Test loss {0:.2f} Test Accuracy {1:.2f}%'.format(test_loss, test_accuracy*100.))"
   ]
  }
 ],
 "metadata": {
  "kernelspec": {
   "display_name": "Python 3",
   "language": "python",
   "name": "python3"
  },
  "language_info": {
   "codemirror_mode": {
    "name": "ipython",
    "version": 3
   },
   "file_extension": ".py",
   "mimetype": "text/x-python",
   "name": "python",
   "nbconvert_exporter": "python",
   "pygments_lexer": "ipython3",
   "version": "3.7.7"
  }
 },
 "nbformat": 4,
 "nbformat_minor": 4
}

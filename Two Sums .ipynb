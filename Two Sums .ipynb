{
 "cells": [
  {
   "cell_type": "markdown",
   "metadata": {},
   "source": [
    "# Given is a list of integers. Return the pair of integers that add up to a give target"
   ]
  },
  {
   "cell_type": "markdown",
   "metadata": {},
   "source": [
    "# example [2,8,15,4] target is 12 return [1,3]"
   ]
  },
  {
   "cell_type": "code",
   "execution_count": 14,
   "metadata": {},
   "outputs": [],
   "source": [
    "def two_sums(nums,target):\n",
    "    d={}\n",
    "    \n",
    "    for i in range(len(nums)):\n",
    "        if target - nums[i] in d:\n",
    "            print(d)\n",
    "            return [d[target-nums[i]],i]\n",
    "                \n",
    "        d[nums[i]]=i\n",
    "        \n",
    "    return -1"
   ]
  },
  {
   "cell_type": "code",
   "execution_count": 15,
   "metadata": {},
   "outputs": [
    {
     "name": "stdout",
     "output_type": "stream",
     "text": [
      "{13: 0, 45: 1, 1: 2, 4: 3, 6: 4}\n",
      "[4, 5]\n"
     ]
    }
   ],
   "source": [
    "L=[13,45,1,4,6,7,14]\n",
    "print(two_sums(L,13))"
   ]
  }
 ],
 "metadata": {
  "kernelspec": {
   "display_name": "Python 3",
   "language": "python",
   "name": "python3"
  },
  "language_info": {
   "codemirror_mode": {
    "name": "ipython",
    "version": 3
   },
   "file_extension": ".py",
   "mimetype": "text/x-python",
   "name": "python",
   "nbconvert_exporter": "python",
   "pygments_lexer": "ipython3",
   "version": "3.7.7"
  }
 },
 "nbformat": 4,
 "nbformat_minor": 4
}
